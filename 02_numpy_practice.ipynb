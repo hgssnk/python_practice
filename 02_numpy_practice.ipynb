{
 "cells": [
  {
   "cell_type": "markdown",
   "id": "ba851139",
   "metadata": {},
   "source": [
    "# NumPy基本"
   ]
  },
  {
   "cell_type": "code",
   "execution_count": 1,
   "id": "803f989f",
   "metadata": {},
   "outputs": [],
   "source": [
    "import numpy as np\n",
    "import matplotlib.pyplot as plt"
   ]
  },
  {
   "cell_type": "markdown",
   "id": "1f53ead5",
   "metadata": {},
   "source": [
    "#### 配列\n",
    "プログラムでの\"次元\"とは、インデックスの総数のこと。  \n",
    "例えば、$a_{ij}$で表される配列を二次元とする。  \n",
    "そのため、数学での次元とは意味が異なる。"
   ]
  },
  {
   "cell_type": "code",
   "execution_count": 36,
   "id": "8c7f5a16",
   "metadata": {},
   "outputs": [
    {
     "name": "stdout",
     "output_type": "stream",
     "text": [
      "======array=======\n",
      "x=[1 2 3 4 5]\n",
      "int64\n",
      "1\n",
      "[2 3 4]\n",
      "[2 3]\n",
      "=======arange=======\n",
      "x=[0 1 2 3 4]\n",
      "int64\n",
      "x=[1. 3. 5. 7. 9.]\n",
      "float128\n",
      "=======2次元=======\n",
      "x=[[1 2 3]\n",
      " [4 5 6]]\n",
      "x[0, 0]=1\n",
      "x[0, 1]=2\n",
      "x[0, 2]=3\n",
      "x[1, 0]=4\n",
      "x[1, 1]=5\n",
      "x[1, 2]=6\n"
     ]
    }
   ],
   "source": [
    "x = np.array([1,2,3,4,5])\n",
    "print(\"======array=======\")\n",
    "print(\"x=\" + str(x))\n",
    "print(x.dtype)\n",
    "x[:-1]\n",
    "print(x[0])\n",
    "print(x[1:4])\n",
    "print(x[1:-2])\n",
    "\n",
    "print(\"=======arange=======\")\n",
    "x = np.arange(5)\n",
    "print(\"x=\" + str(x))\n",
    "print(x.dtype)\n",
    "x = np.arange(1, 10, 2, dtype=np.float128) \n",
    "print(\"x=\" + str(x))\n",
    "print(x.dtype)\n",
    "\n",
    "print(\"=======2次元=======\")\n",
    "x = np.array([[1,2,3], [4,5,6]])\n",
    "print(\"x=\" + str(x))\n",
    "for i in range(2):\n",
    "    for j in range(3):\n",
    "        print(\"x[\" + str(i) + \", \" + str(j) + \"]=\" + str(x[i, j]))"
   ]
  },
  {
   "cell_type": "markdown",
   "id": "d39159d2",
   "metadata": {},
   "source": [
    "#### 配列の属性"
   ]
  },
  {
   "cell_type": "code",
   "execution_count": 2,
   "id": "e6d03eae",
   "metadata": {},
   "outputs": [
    {
     "name": "stdout",
     "output_type": "stream",
     "text": [
      "[[ 0.  1.  2.  3.  4.]\n",
      " [ 5.  6.  7.  8.  9.]\n",
      " [10. 11. 12. 13. 14.]]\n",
      "(3, 5)\n",
      "2\n",
      "15\n"
     ]
    }
   ],
   "source": [
    "x = np.arange(15.).reshape(3,5)\n",
    "print(x)\n",
    "print(x.shape)\n",
    "print(x.ndim)\n",
    "print(x.size)"
   ]
  },
  {
   "cell_type": "code",
   "execution_count": 10,
   "id": "86449521",
   "metadata": {},
   "outputs": [
    {
     "name": "stdout",
     "output_type": "stream",
     "text": [
      "[0 1 2 3 4 5 6 7 8 9]\n",
      "[20 21 22 23 24 25 26 27 28 29]\n",
      "[20 22 24 26 28 30 32 34 36 38]\n",
      "[  0  21  44  69  96 125 156 189 224 261]\n",
      "1185\n",
      "1185\n"
     ]
    }
   ],
   "source": [
    "x = np.arange(10)\n",
    "y = np.arange(20, 30)\n",
    "print(x)\n",
    "print(y)\n",
    "print(x+y)\n",
    "print(x*y)\n",
    "print(np.dot(x, y))\n",
    "print((x*y).sum())"
   ]
  },
  {
   "cell_type": "code",
   "execution_count": null,
   "id": "15833bf8",
   "metadata": {},
   "outputs": [],
   "source": []
  }
 ],
 "metadata": {
  "kernelspec": {
   "display_name": "Python 3 (ipykernel)",
   "language": "python",
   "name": "python3"
  },
  "language_info": {
   "codemirror_mode": {
    "name": "ipython",
    "version": 3
   },
   "file_extension": ".py",
   "mimetype": "text/x-python",
   "name": "python",
   "nbconvert_exporter": "python",
   "pygments_lexer": "ipython3",
   "version": "3.9.7"
  }
 },
 "nbformat": 4,
 "nbformat_minor": 5
}
