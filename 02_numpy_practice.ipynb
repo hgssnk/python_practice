{
 "cells": [
  {
   "cell_type": "markdown",
   "id": "4eb346d1",
   "metadata": {},
   "source": [
    "# NumPy基本"
   ]
  },
  {
   "cell_type": "code",
   "execution_count": 62,
   "id": "8660e2de",
   "metadata": {},
   "outputs": [],
   "source": [
    "import numpy as np\n",
    "import matplotlib.pyplot as plt\n",
    "from scipy import sparse \n",
    "from scipy import linalg"
   ]
  },
  {
   "cell_type": "markdown",
   "id": "82f884e4",
   "metadata": {},
   "source": [
    "#### 配列\n",
    "プログラムでの\"次元\"とは、インデックスの総数のこと。  \n",
    "例えば、$a_{ij}$で表される配列を二次元とする。  \n",
    "そのため、数学での次元とは意味が異なる。"
   ]
  },
  {
   "cell_type": "code",
   "execution_count": 36,
   "id": "c9e0a802",
   "metadata": {},
   "outputs": [
    {
     "name": "stdout",
     "output_type": "stream",
     "text": [
      "======array=======\n",
      "x=[1 2 3 4 5]\n",
      "int64\n",
      "1\n",
      "[2 3 4]\n",
      "[2 3]\n",
      "=======arange=======\n",
      "x=[0 1 2 3 4]\n",
      "int64\n",
      "x=[1. 3. 5. 7. 9.]\n",
      "float128\n",
      "=======2次元=======\n",
      "x=[[1 2 3]\n",
      " [4 5 6]]\n",
      "x[0, 0]=1\n",
      "x[0, 1]=2\n",
      "x[0, 2]=3\n",
      "x[1, 0]=4\n",
      "x[1, 1]=5\n",
      "x[1, 2]=6\n"
     ]
    }
   ],
   "source": [
    "x = np.array([1,2,3,4,5])\n",
    "print(\"======array=======\")\n",
    "print(\"x=\" + str(x))\n",
    "print(x.dtype)\n",
    "x[:-1]\n",
    "print(x[0])\n",
    "print(x[1:4])\n",
    "print(x[1:-2])\n",
    "\n",
    "print(\"=======arange=======\")\n",
    "x = np.arange(5)\n",
    "print(\"x=\" + str(x))\n",
    "print(x.dtype)\n",
    "x = np.arange(1, 10, 2, dtype=np.float128) \n",
    "print(\"x=\" + str(x))\n",
    "print(x.dtype)\n",
    "\n",
    "print(\"=======2次元=======\")\n",
    "x = np.array([[1,2,3], [4,5,6]])\n",
    "print(\"x=\" + str(x))\n",
    "for i in range(2):\n",
    "    for j in range(3):\n",
    "        print(\"x[\" + str(i) + \", \" + str(j) + \"]=\" + str(x[i, j]))"
   ]
  },
  {
   "cell_type": "markdown",
   "id": "cf9bea53",
   "metadata": {},
   "source": [
    "#### 配列の属性"
   ]
  },
  {
   "cell_type": "code",
   "execution_count": 2,
   "id": "c67c9eb0",
   "metadata": {},
   "outputs": [
    {
     "name": "stdout",
     "output_type": "stream",
     "text": [
      "[[ 0.  1.  2.  3.  4.]\n",
      " [ 5.  6.  7.  8.  9.]\n",
      " [10. 11. 12. 13. 14.]]\n",
      "(3, 5)\n",
      "2\n",
      "15\n"
     ]
    }
   ],
   "source": [
    "x = np.arange(15.).reshape(3,5)\n",
    "print(x)\n",
    "print(x.shape)\n",
    "print(x.ndim)\n",
    "print(x.size)"
   ]
  },
  {
   "cell_type": "code",
   "execution_count": 2,
   "id": "183d3fe4",
   "metadata": {},
   "outputs": [
    {
     "name": "stdout",
     "output_type": "stream",
     "text": [
      "[0 1 2 3 4 5 6 7 8 9]\n",
      "[20 21 22 23 24 25 26 27 28 29]\n",
      "[20 22 24 26 28 30 32 34 36 38]\n",
      "[  0  21  44  69  96 125 156 189 224 261]\n",
      "1185\n",
      "1185\n"
     ]
    }
   ],
   "source": [
    "x = np.arange(10)\n",
    "y = np.arange(20, 30)\n",
    "print(x)\n",
    "print(y)\n",
    "print(x+y)\n",
    "print(x*y)\n",
    "print(np.dot(x, y))\n",
    "print((x*y).sum())"
   ]
  },
  {
   "cell_type": "markdown",
   "id": "1dd4ee28",
   "metadata": {},
   "source": [
    "#### 疎行列"
   ]
  },
  {
   "cell_type": "markdown",
   "id": "099b2d26",
   "metadata": {},
   "source": [
    "多くの要素が0であるような行列を**疎行列**、通常の行列を**密行列**と表現することがある。  \n",
    "疎行列に値を随時入れなおすような場合は、`lil_matrix`型が便利。  \n",
    "しかし、計算処理が遅いので、速度を求める場合は`csr_matrix`や`csc_matrix`型に変換する。  \n",
    "なお、後者の2つの型は、随時値を設定することができない。"
   ]
  },
  {
   "cell_type": "code",
   "execution_count": 43,
   "id": "873fa370",
   "metadata": {},
   "outputs": [
    {
     "name": "stdout",
     "output_type": "stream",
     "text": [
      "[[0. 0. 0. 0. 0.]\n",
      " [0. 0. 0. 0. 0.]\n",
      " [0. 0. 0. 0. 0.]\n",
      " [0. 0. 0. 0. 0.]]\n",
      "  (0, 1)\t1.0\n",
      "  (1, 2)\t2.0\n",
      "  (2, 3)\t3.0\n",
      "  (3, 3)\t4.0\n",
      "[[0. 1. 0. 0. 0.]\n",
      " [0. 0. 2. 0. 0.]\n",
      " [0. 0. 0. 3. 0.]\n",
      " [0. 0. 0. 4. 0.]]\n"
     ]
    }
   ],
   "source": [
    "# 疎行列の生成\n",
    "a = sparse.lil_matrix((4, 5))\n",
    "# この時点では全て空になっている\n",
    "print(a.toarray())\n",
    "a[0, 1] = 1\n",
    "a[1, 2] = 2\n",
    "a[2, 3] = 3\n",
    "a[3, 3] = 4\n",
    "print(a)\n",
    "# 密行列へ変換\n",
    "print(a.toarray())"
   ]
  },
  {
   "cell_type": "code",
   "execution_count": 42,
   "id": "bad18868",
   "metadata": {},
   "outputs": [
    {
     "name": "stdout",
     "output_type": "stream",
     "text": [
      "[[0. 1. 0. 0.]\n",
      " [0. 0. 2. 0.]\n",
      " [0. 0. 0. 3.]\n",
      " [0. 0. 0. 4.]\n",
      " [0. 0. 0. 0.]]\n"
     ]
    }
   ],
   "source": [
    "# 疎行列の生成\n",
    "b = sparse.lil_matrix((5, 4))\n",
    "b[0, 1] = 1\n",
    "b[1, 2] = 2\n",
    "b[2, 3] = 3\n",
    "b[3, 3] = 4\n",
    "# 配列へ変換\n",
    "print(b.toarray())"
   ]
  },
  {
   "cell_type": "code",
   "execution_count": 44,
   "id": "2e7cc2fb",
   "metadata": {},
   "outputs": [
    {
     "name": "stdout",
     "output_type": "stream",
     "text": [
      "  (0, 2)\t2.0\n",
      "  (1, 3)\t6.0\n",
      "  (2, 3)\t12.0\n",
      "  (3, 3)\t16.0\n",
      "[[ 0.  0.  2.  0.]\n",
      " [ 0.  0.  0.  6.]\n",
      " [ 0.  0.  0. 12.]\n",
      " [ 0.  0.  0. 16.]]\n"
     ]
    }
   ],
   "source": [
    "#　行列積\n",
    "c = a.dot(b)\n",
    "print(c)\n",
    "print(c.toarray())"
   ]
  },
  {
   "cell_type": "code",
   "execution_count": 49,
   "id": "7b196261",
   "metadata": {},
   "outputs": [
    {
     "name": "stdout",
     "output_type": "stream",
     "text": [
      "[[ 0.  0.  2.  0.]\n",
      " [ 0.  0.  0.  6.]\n",
      " [ 0.  0.  0. 12.]\n",
      " [ 0.  0.  0. 16.]]\n"
     ]
    }
   ],
   "source": [
    "A = a.tocsr()\n",
    "B = b.tocsr()\n",
    "C = A.dot(B)\n",
    "print(C.toarray())"
   ]
  },
  {
   "cell_type": "markdown",
   "id": "53f8a607",
   "metadata": {},
   "source": [
    "#### 逆行列\n",
    "NumPyで逆行列を求めるには`linalg.inv`関数を使う。  "
   ]
  },
  {
   "cell_type": "code",
   "execution_count": 60,
   "id": "6b84b511",
   "metadata": {},
   "outputs": [
    {
     "name": "stdout",
     "output_type": "stream",
     "text": [
      "[[ 3  1  1]\n",
      " [ 1  2  1]\n",
      " [ 0 -1  1]]\n",
      "逆行列======>>>\n",
      "[[ 0.42857143 -0.28571429 -0.14285714]\n",
      " [-0.14285714  0.42857143 -0.28571429]\n",
      " [-0.14285714  0.42857143  0.71428571]]\n"
     ]
    }
   ],
   "source": [
    "a = np.array([[3,1,1], [1,2,1], [0,-1,1]])\n",
    "print(a)\n",
    "print(\"逆行列======>>>\")\n",
    "print(np.linalg.inv(a))"
   ]
  },
  {
   "cell_type": "markdown",
   "id": "d3720c04",
   "metadata": {},
   "source": [
    "#### LU分解\n",
    "一般に、素直に逆行列を求めるより、LU分解による計算の方が、計算量が少なく、なおかつ数値的に安定している、らしい。\n",
    "$$\n",
    "\\boldsymbol{Ax} = \\boldsymbol{b}\n",
    "$$\n",
    "を次に変換。\n",
    "$$\n",
    "\\boldsymbol{PLUx} = \\boldsymbol{b}\n",
    "$$\n",
    "[wiki](https://ja.wikipedia.org/wiki/LU%E5%88%86%E8%A7%A3#:~:text=%E6%95%B0%E5%AD%A6%E3%81%AB%E3%81%8A%E3%81%91%E3%82%8B%E8%A1%8C%E5%88%97%E3%81%AELU,%E3%82%92%E6%B1%82%E3%82%81%E3%82%8B%E3%81%93%E3%81%A8%E3%82%92%E3%81%84%E3%81%86%E3%80%82)\n",
    "と[参考文献](https://opqrstuvcut.github.io/blog/posts/%E5%AE%89%E6%98%93%E3%81%AB%E9%80%86%E8%A1%8C%E5%88%97%E3%82%92%E6%95%B0%E5%80%A4%E8%A8%88%E7%AE%97%E3%81%99%E3%82%8B%E3%81%AE%E3%81%AF%E3%82%84%E3%82%81%E3%82%88%E3%81%86/)"
   ]
  },
  {
   "cell_type": "code",
   "execution_count": 80,
   "id": "fddda9aa",
   "metadata": {},
   "outputs": [
    {
     "name": "stdout",
     "output_type": "stream",
     "text": [
      "a==========>\n",
      "[[ 3  1  1]\n",
      " [ 1  2  1]\n",
      " [ 0 -1  1]]\n",
      "b==========>\n",
      "[1 2 3]\n",
      "lu==========>\n",
      "[[ 3.          1.          1.        ]\n",
      " [ 0.33333333  1.66666667  0.66666667]\n",
      " [ 0.         -0.6         1.4       ]]\n",
      "p==========>\n",
      "[0 1 2]\n",
      "解==========>\n",
      "[-0.57142857 -0.14285714  2.85714286]\n",
      "検証==========>\n",
      "[1. 2. 3.]\n"
     ]
    }
   ],
   "source": [
    "a = np.array([[3,1,1], [1,2,1], [0,-1,1]])\n",
    "b = np.array([1,2,3])\n",
    "print(\"a==========>\")\n",
    "print(a)\n",
    "print(\"b==========>\")\n",
    "print(b)\n",
    "lu, p = linalg.lu_factor(a)\n",
    "print(\"lu==========>\")\n",
    "print(lu)\n",
    "print(\"p==========>\")\n",
    "print(p)\n",
    "print(\"解==========>\")\n",
    "print(linalg.lu_solve((lu, p), b))\n",
    "\n",
    "#　本当に解になっているか\n",
    "print(\"検証==========>\")\n",
    "print(a.dot(linalg.lu_solve((lu, p), b).T))"
   ]
  },
  {
   "cell_type": "code",
   "execution_count": null,
   "id": "29e9682c",
   "metadata": {},
   "outputs": [],
   "source": []
  }
 ],
 "metadata": {
  "kernelspec": {
   "display_name": "Python 3 (ipykernel)",
   "language": "python",
   "name": "python3"
  },
  "language_info": {
   "codemirror_mode": {
    "name": "ipython",
    "version": 3
   },
   "file_extension": ".py",
   "mimetype": "text/x-python",
   "name": "python",
   "nbconvert_exporter": "python",
   "pygments_lexer": "ipython3",
   "version": "3.9.7"
  }
 },
 "nbformat": 4,
 "nbformat_minor": 5
}
