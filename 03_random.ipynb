{
 "cells": [
  {
   "cell_type": "code",
   "execution_count": 62,
   "id": "4d17e24b",
   "metadata": {},
   "outputs": [],
   "source": [
    "import numpy as np\n",
    "import matplotlib.pyplot as plt"
   ]
  },
  {
   "cell_type": "markdown",
   "id": "9a49d236",
   "metadata": {},
   "source": [
    "## 乱数"
   ]
  },
  {
   "cell_type": "code",
   "execution_count": 168,
   "id": "864d2b1a",
   "metadata": {},
   "outputs": [
    {
     "name": "stdout",
     "output_type": "stream",
     "text": [
      "0.7948639394336546\n",
      "0.25053254470867325\n",
      "0.4775965709256299\n",
      "0.1433955029519588\n",
      "0.5747127096353772\n",
      "0.6849857866684675\n",
      "0.10792286682990426\n",
      "0.851498484487437\n",
      "0.8945158764217579\n",
      "0.4445506453315713\n"
     ]
    }
   ],
   "source": [
    "# 0~1の疑似乱数を生成\n",
    "for i in range(10):\n",
    "    print(np.random.rand())"
   ]
  },
  {
   "cell_type": "code",
   "execution_count": 20,
   "id": "905ec7ae",
   "metadata": {},
   "outputs": [
    {
     "name": "stdout",
     "output_type": "stream",
     "text": [
      "引数を入れると配列に乱数を入れて返す\n",
      "[[0.77551161 0.67650328 0.15656353 0.10691353 0.27646354]\n",
      " [0.16183877 0.01927597 0.00702253 0.03616616 0.96646421]\n",
      " [0.52029349 0.0565208  0.779293   0.99523927 0.07123157]\n",
      " [0.69703174 0.84661783 0.44236206 0.7250378  0.09132069]\n",
      " [0.43600187 0.50520172 0.13083975 0.86589771 0.30181812]]\n",
      "\n",
      "[0.76141654 0.92547351 0.73670333 0.2943389  0.98078431]\n"
     ]
    }
   ],
   "source": [
    "# 引数を入れると配列に乱数を入れて返す\n",
    "print(np.random.rand(5,5))\n",
    "print()\n",
    "print(np.random.rand(5))"
   ]
  },
  {
   "cell_type": "code",
   "execution_count": 27,
   "id": "88c726f3",
   "metadata": {},
   "outputs": [
    {
     "name": "stdout",
     "output_type": "stream",
     "text": [
      "2\n",
      "\n",
      " -6\n",
      "\n",
      " [[-9 -2 -8]\n",
      " [ 1  4 -1]\n",
      " [-7 -7 -1]]\n"
     ]
    }
   ],
   "source": [
    "# 整数の乱数も生成できる\n",
    "print(np.random.randint(10))\n",
    "# 範囲指定もできる\n",
    "print(\"\\n\", np.random.randint(-10,5))\n",
    "# 配列も作れる\n",
    "print('\\n', np.random.randint(-10,5, size=(3,3)))"
   ]
  },
  {
   "cell_type": "markdown",
   "id": "2fee966b",
   "metadata": {},
   "source": [
    "乱数といえど、同じ結果を返してほしいことがある。  \n",
    "その場合は、**乱数の種（シード）**を設定することで、乱数列を毎回初期化し、同じ結果を返すようになる。"
   ]
  },
  {
   "cell_type": "code",
   "execution_count": 37,
   "id": "73cf4d96",
   "metadata": {},
   "outputs": [
    {
     "name": "stdout",
     "output_type": "stream",
     "text": [
      "0.771320643266746\n",
      "0.771320643266746\n",
      "0.771320643266746\n",
      "0.771320643266746\n",
      "0.771320643266746\n",
      "0.771320643266746\n",
      "0.771320643266746\n",
      "0.771320643266746\n",
      "0.771320643266746\n",
      "0.771320643266746\n"
     ]
    }
   ],
   "source": [
    "def dice():\n",
    "    np.random.seed(10)\n",
    "    return np.random.rand()\n",
    "\n",
    "for i in range(10):\n",
    "    print(dice())"
   ]
  },
  {
   "cell_type": "code",
   "execution_count": 54,
   "id": "991cbe51",
   "metadata": {},
   "outputs": [
    {
     "name": "stdout",
     "output_type": "stream",
     "text": [
      "2\n",
      "6\n",
      "5\n",
      "1\n",
      "2\n",
      "4\n",
      "5\n",
      "2\n",
      "6\n",
      "1\n",
      "\n",
      "合計 34 \n",
      "\n",
      "2\n",
      "6\n",
      "5\n",
      "1\n",
      "2\n",
      "4\n",
      "5\n",
      "2\n",
      "6\n",
      "1\n",
      "6\n",
      "2\n",
      "3\n",
      "1\n",
      "2\n",
      "1\n",
      "3\n",
      "1\n",
      "5\n",
      "4\n",
      "\n",
      "合計 39\n",
      "\n",
      "合計 23\n"
     ]
    }
   ],
   "source": [
    "class Dice:\n",
    "    def __init__(self):\n",
    "        np.random.seed(10)\n",
    "        self.dice = 0\n",
    "        self.sum = 0\n",
    "        \n",
    "    def throw(self):\n",
    "        self.dice = np.random.randint(1, 7)\n",
    "        self.sum += self.dice\n",
    "        return self.dice\n",
    "    \n",
    "    def get_sum(self):\n",
    "        return self.sum\n",
    "\n",
    "dice = Dice()\n",
    "for i in range(10):\n",
    "    print(dice.throw())\n",
    "print('\\n合計', dice.get_sum(), '\\n')\n",
    "\n",
    "dice = Dice()\n",
    "dice2 = Dice()\n",
    "for i in range(10):\n",
    "    print(dice.throw())\n",
    "    print(dice2.throw())\n",
    "print('\\n合計', dice.get_sum())\n",
    "print('\\n合計', dice2.get_sum())"
   ]
  },
  {
   "cell_type": "markdown",
   "id": "313d320a",
   "metadata": {},
   "source": [
    "throw関数を呼び出した回数によって、乱数の再現性を保っているつもりである。  \n",
    "しかし、インスタンスを複数生成し、throw関数をそれぞれのインスタンスで交互に呼び出すと、結果としてインスタンスごとの返り値が異なってしまう。  \n",
    "これは、それぞれのインスタンスが、同じ乱数発生器を使っていることで生じる。  \n",
    "インスタンスごとに独立した乱数発生器を持たせたい場合は、`np.random.RandomState`クラスを使う。  "
   ]
  },
  {
   "cell_type": "code",
   "execution_count": 61,
   "id": "67f851a2",
   "metadata": {},
   "outputs": [
    {
     "name": "stdout",
     "output_type": "stream",
     "text": [
      "2\n",
      "2\n",
      "6\n",
      "6\n",
      "5\n",
      "5\n",
      "1\n",
      "1\n",
      "2\n",
      "2\n",
      "4\n",
      "4\n",
      "5\n",
      "5\n",
      "2\n",
      "2\n",
      "6\n",
      "6\n",
      "1\n",
      "1\n",
      "\n",
      "合計 34\n",
      "\n",
      "合計 34\n"
     ]
    }
   ],
   "source": [
    "class Dice:\n",
    "    def __init__(self, seed=None):\n",
    "        self.random_state = np.random.RandomState(seed)\n",
    "        self.dice = 0\n",
    "        self.sum = 0\n",
    "        \n",
    "    def throw(self):\n",
    "        self.dice = self.random_state.randint(1, 7)\n",
    "        self.sum += self.dice\n",
    "        return self.dice\n",
    "    \n",
    "    def get_sum(self):\n",
    "        return self.sum\n",
    "\n",
    "dice = Dice(10)\n",
    "dice2 = Dice(10)\n",
    "for i in range(10):\n",
    "    print(dice.throw())\n",
    "    print(dice2.throw())\n",
    "print('\\n合計', dice.get_sum())\n",
    "print('\\n合計', dice2.get_sum())"
   ]
  },
  {
   "cell_type": "markdown",
   "id": "d41d58e6",
   "metadata": {},
   "source": [
    "## データの可視化"
   ]
  },
  {
   "cell_type": "code",
   "execution_count": 98,
   "id": "841a5125",
   "metadata": {},
   "outputs": [
    {
     "data": {
      "image/png": "[encoded data removed]",
      "text/plain": [
       "<Figure size 432x288 with 1 Axes>"
      ]
     },
     "metadata": {
      "needs_background": "light"
     },
     "output_type": "display_data"
    },
    {
     "data": {
      "image/png": "[encoded data removed]",
      "text/plain": [
       "<Figure size 432x288 with 1 Axes>"
      ]
     },
     "metadata": {
      "needs_background": "light"
     },
     "output_type": "display_data"
    },
    {
     "data": {
      "image/png": "[encoded data removed]",
      "text/plain": [
       "<Figure size 432x288 with 1 Axes>"
      ]
     },
     "metadata": {
      "needs_background": "light"
     },
     "output_type": "display_data"
    }
   ],
   "source": [
    "x = ([2,3,4,5])\n",
    "y = ([2, 10, 3, 1])\n",
    "\n",
    "# 折線グラフ\n",
    "plt.plot(x, y, color=\"r\")\n",
    "plt.show()\n",
    "\n",
    "# 散布図\n",
    "plt.scatter(x, y, color=\"r\")\n",
    "plt.show()\n",
    "\n",
    "# 曲線。linspace関数で範囲の値を細かく分割する\n",
    "x = np.linspace(-10, 10, 100)\n",
    "y = x**3 + x\n",
    "plt.plot(x, y, color=\"r\")\n",
    "plt.show()"
   ]
  },
  {
   "cell_type": "code",
   "execution_count": 105,
   "id": "9e48df9a",
   "metadata": {},
   "outputs": [
    {
     "data": {
      "image/png": "[encoded data removed]",
      "text/plain": [
       "<Figure size 432x288 with 1 Axes>"
      ]
     },
     "metadata": {
      "needs_background": "light"
     },
     "output_type": "display_data"
    }
   ],
   "source": [
    "# 複数のグラフをプロットする\n",
    "x = np.linspace(-10,10,300)\n",
    "y1 = x**3\n",
    "y2 = (x-30)**2\n",
    "\n",
    "plt.plot(x, y1, color='r')\n",
    "plt.plot(x, y2, color='k')\n",
    "plt.show()"
   ]
  },
  {
   "cell_type": "markdown",
   "id": "ca1d49bb",
   "metadata": {},
   "source": [
    "#### ヒストグラム"
   ]
  },
  {
   "cell_type": "code",
   "execution_count": 134,
   "id": "61cabea3",
   "metadata": {},
   "outputs": [
    {
     "data": {
      "image/png": "[encoded data removed]",
      "text/plain": [
       "<Figure size 432x288 with 1 Axes>"
      ]
     },
     "metadata": {
      "needs_background": "light"
     },
     "output_type": "display_data"
    }
   ],
   "source": [
    "# サイコロを　10回振って合計を返す\n",
    "def dice_sum():\n",
    "    return np.random.randint(1,7,size=(10)).sum()\n",
    "\n",
    "# 結果の再現性を維持するためにseedを設定\n",
    "np.random.seed(0)\n",
    "\n",
    "# 1000回繰り替えし、リストに追加していく\n",
    "list = []\n",
    "for i in range(1000):\n",
    "    list.append(dice_sum())\n",
    "\n",
    "# 各要素の最小値〜最大値を20分割し、ヒストグラムにする\n",
    "plt.hist(list, 20)\n",
    "plt.show()"
   ]
  },
  {
   "cell_type": "code",
   "execution_count": 139,
   "id": "54b45557",
   "metadata": {},
   "outputs": [
    {
     "data": {
      "image/png": "[encoded data removed]",
      "text/plain": [
       "<Figure size 432x288 with 1 Axes>"
      ]
     },
     "metadata": {
      "needs_background": "light"
     },
     "output_type": "display_data"
    }
   ],
   "source": [
    "# ついでに、試行回数を増やすとどうなるのか\n",
    "np.random.seed(0)\n",
    "list = []\n",
    "for i in range(100000):\n",
    "    list.append(dice_sum())\n",
    "\n",
    "plt.hist(list, 20)\n",
    "plt.show()\n",
    "# 期待値の35が突出している"
   ]
  },
  {
   "cell_type": "markdown",
   "id": "67087f0b",
   "metadata": {},
   "source": [
    "#### 複数のグラフを並べて描画する"
   ]
  },
  {
   "cell_type": "code",
   "execution_count": 166,
   "id": "6364e9c6",
   "metadata": {},
   "outputs": [
    {
     "data": {
      "image/png": "[encoded data removed]",
      "text/plain": [
       "<Figure size 432x288 with 2 Axes>"
      ]
     },
     "metadata": {
      "needs_background": "light"
     },
     "output_type": "display_data"
    }
   ],
   "source": [
    "x = np.linspace(-10,10,300)\n",
    "y1 = np.sin(x)\n",
    "y2 = np.cos(x)\n",
    "\n",
    "# 2行1列のグラフを作成\n",
    "fig, axes = plt.subplots(2, 1)\n",
    "\n",
    "# y軸の範囲定義　（特に定義しなくても自動でやってくれる）\n",
    "axes[0].set_ylim([-2, 2])\n",
    "axes[1].set_ylim([-2, 2])\n",
    "\n",
    "# プロット\n",
    "axes[0].plot(x, y1, color='r')\n",
    "axes[1].plot(x, y2, color='k')\n",
    "plt.show()"
   ]
  }
 ],
 "metadata": {
  "kernelspec": {
   "display_name": "Python 3 (ipykernel)",
   "language": "python",
   "name": "python3"
  },
  "language_info": {
   "codemirror_mode": {
    "name": "ipython",
    "version": 3
   },
   "file_extension": ".py",
   "mimetype": "text/x-python",
   "name": "python",
   "nbconvert_exporter": "python",
   "pygments_lexer": "ipython3",
   "version": "3.9.7"
  }
 },
 "nbformat": 4,
 "nbformat_minor": 5
}
