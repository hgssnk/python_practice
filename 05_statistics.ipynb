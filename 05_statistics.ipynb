{
 "cells": [
  {
   "cell_type": "code",
   "execution_count": 1,
   "id": "b328ed04",
   "metadata": {},
   "outputs": [],
   "source": [
    "import numpy as np\n",
    "import matplotlib.pyplot as plt\n",
    "from scipy.stats import norm\n",
    "from scipy import integrate"
   ]
  },
  {
   "cell_type": "markdown",
   "id": "f0c9fb20",
   "metadata": {},
   "source": [
    "# 統計"
   ]
  },
  {
   "cell_type": "markdown",
   "id": "e98dd1af",
   "metadata": {},
   "source": [
    "## 統計基本量\n",
    "データ$x_i$が与えられた時、**分散$\\sigma_x^2$**と**標準偏差$\\sigma_x$**を次で定義する。  \n",
    "$$\n",
    "\\begin{align}\n",
    "\\sigma_x^2 &= \\frac{1}{n} \\sum_i (x_i - \\bar{x})^2 \\\\\n",
    "\\sigma_x &= \\sqrt{\\frac{1}{n} \\sum_i (x_i - \\bar{x})^2}\n",
    "\\end{align}\n",
    "$$\n",
    "これらの量は、平均値からのばらつき具合を表現しているつもり。"
   ]
  },
  {
   "cell_type": "code",
   "execution_count": 2,
   "id": "b654d727",
   "metadata": {},
   "outputs": [
    {
     "name": "stdout",
     "output_type": "stream",
     "text": [
      "分散\t\t\t 51.5\n",
      "標準偏差\t\t 29.28156416587065\n"
     ]
    }
   ],
   "source": [
    "x = np.random.randint(1, 100, size=(1,100))\n",
    "# 標準ライブラリで用意されている\n",
    "print(\"分散\\t\\t\\t\", x.mean())\n",
    "print(\"標準偏差\\t\\t\", x.std())"
   ]
  },
  {
   "cell_type": "markdown",
   "id": "eb635567",
   "metadata": {},
   "source": [
    "二つ一組のデータ$(x_i, y_i)$が与えられた時、**共分散$\\sigma_{xy}$**を次で定義する。\n",
    "$$\n",
    "\\sigma_{xy} = \\frac{1}{n} \\sum_i (x_i - \\bar{x})(y_i - \\bar{y})\n",
    "$$\n",
    "この量は、xとyの相関を表現しているつもりである。  \n",
    "また、次の量を相関係数といい、これもまた相関具合を表現しているつもりであり、-1から1の値をとる。\n",
    "$$\n",
    "\\frac{\\sigma_{xy}}{\\sigma_x \\sigma_y}\n",
    "$$"
   ]
  },
  {
   "cell_type": "code",
   "execution_count": 39,
   "id": "45c7aa29",
   "metadata": {},
   "outputs": [
    {
     "name": "stdout",
     "output_type": "stream",
     "text": [
      "[21 17 48 38 26 34 46 20 72 36 54 21 52 92 28 49 79 15 99 51 47 18 17  2\n",
      " 45 58 22 86 73 61 42 72 77 28  5 10  1 99 58 36 84 39 44 99 52 61 15 51\n",
      " 51 35 58 52 21 91 70 61 75 52 85 73 92 96  7 18 98 96 95 35 41 39 99 67\n",
      " 39 91 45 89 15 63 80 94 92 42 42  1 55 80  6 11  8 96 81 62 36 98  8 88\n",
      " 30 47 39 67]\n",
      "相関係数\t\t\t [-2.94117461e-03  1.96852610e-02  5.26247098e-04  2.29902552e-03\n",
      " -1.31619042e-02  6.12951824e-03 -1.79534871e-03 -1.15716719e-03\n",
      " -8.12008312e-03 -5.80745180e-04 -3.06102548e-04 -1.53174044e-02\n",
      " -6.74862917e-05 -1.90880091e-02 -2.84385661e-03  1.49334475e-03\n",
      " -4.69102716e-03  1.51618453e-02 -1.42132194e-02 -2.36857046e-04\n",
      " -2.93930311e-03  5.55543560e-03 -7.01636597e-03  1.10918006e-02\n",
      " -1.73226044e-04 -9.57384564e-04  5.25646347e-03  1.74684692e-02\n",
      "  1.17426148e-02 -8.22636561e-04 -5.80971631e-03 -1.09104897e-02\n",
      " -2.88690111e-03  1.12625750e-02  2.08998645e-02  1.47407578e-02\n",
      "  2.68596564e-02 -4.34292815e-03  2.13760864e-03  5.45297097e-03\n",
      " -6.30940682e-03  4.48111971e-04 -1.97555545e-04 -2.51802097e-02\n",
      "  1.67312104e-05  4.68238083e-03 -9.58687128e-03 -4.72666052e-04\n",
      " -2.72490407e-05 -1.41777358e-03  3.49390344e-04 -2.67811657e-05\n",
      "  9.43505520e-03 -9.96865729e-03  7.75491603e-03  9.43123734e-04\n",
      "  1.23321373e-02 -4.32316511e-06  1.73374641e-02 -5.35353818e-03\n",
      "  1.49644021e-02  4.66039070e-03  4.70764608e-03 -6.81658334e-03\n",
      " -4.93720427e-04  9.27972069e-03 -9.48955328e-03  8.99525269e-03\n",
      " -1.96144434e-03 -1.70037008e-03  1.15592078e-02 -3.64111563e-03\n",
      "  4.13122406e-03  5.49367610e-03  3.57445280e-03 -1.72207200e-02\n",
      "  1.08199652e-02  3.82804106e-03  6.78306477e-04  1.99864976e-03\n",
      "  2.10285301e-02  2.00286064e-03 -2.25854497e-03 -2.81512160e-02\n",
      "  9.12243983e-04 -1.56271377e-02 -2.10820924e-02  2.30483465e-02\n",
      " -1.34590049e-02 -2.30555892e-02 -1.38230116e-02 -2.07092709e-03\n",
      " -3.78615689e-03 -7.47020473e-03 -1.03626081e-02 -1.54947291e-02\n",
      " -8.04148012e-03 -1.26243907e-03 -4.92309316e-03  8.36830017e-03]\n"
     ]
    }
   ],
   "source": [
    "x = np.random.randint(1, 100, 100)\n",
    "y = np.random.randint(1, 100, 100)\n",
    "xbar = x.sum() / len(x)\n",
    "ybar = y.sum() / len(y)\n",
    "print(x)\n",
    "cov = (x - xbar) * (y - ybar) / len(x)\n",
    "print(\"相関係数\\t\\t\\t\", cov / (x.std() * y.std()) )"
   ]
  },
  {
   "cell_type": "markdown",
   "id": "728db8d7",
   "metadata": {},
   "source": [
    "## 確率密度\n",
    "確率変数$X$がとある値を取る確率を$P(X)$と表現することにする。  \n",
    "すると、次のような性質を確認できる。\n",
    "$$\n",
    "\\sum_i P(X_i) = 1\n",
    "$$\n",
    "とくに、$P(X)$が連続性を持つ場合は次のような性質を持ちそう。\n",
    "$$\n",
    "P(a \\leq X \\leq b) = \\int_a^b f(x)dx\n",
    "$$\n",
    "この$f(x)$の候補として、次があげられる。\n",
    "$$\n",
    "f(x) = \\frac{1}{\\sqrt{2\\pi}\\sigma}\\exp\\left\\{{-\\frac{(x-\\mu)^2}{2\\sigma^2}}\\right\\}\n",
    "$$\n",
    "この$f(x)$を**正規分布**と呼ぶことにする。  \n",
    "これは、一種の境界条件を設けることで、自然と導出される。[参考](https://sugaku-okimoti.com/archives/240)"
   ]
  },
  {
   "cell_type": "code",
   "execution_count": 3,
   "id": "694f443c",
   "metadata": {},
   "outputs": [
    {
     "data": {
      "image/png": "[encoded data removed]",
      "text/plain": [
       "<Figure size 432x288 with 1 Axes>"
      ]
     },
     "metadata": {
      "needs_background": "light"
     },
     "output_type": "display_data"
    },
    {
     "name": "stdout",
     "output_type": "stream",
     "text": [
      "0.9999999999999998\n"
     ]
    }
   ],
   "source": [
    "x = np.linspace(-5, 5)\n",
    "y = norm.pdf(x) #normは、特に指定がなければmu=0, sigma=1の正規分布\n",
    "plt.plot(x, y)\n",
    "plt.show()\n",
    "\n",
    "# ついでに全区画を積分\n",
    "y = lambda x: norm.pdf(x)\n",
    "val, err = integrate.quad(y, -np.inf, np.inf)\n",
    "print(val)"
   ]
  },
  {
   "cell_type": "code",
   "execution_count": 15,
   "id": "ae58fa8e",
   "metadata": {},
   "outputs": [
    {
     "data": {
      "image/png": "[encoded data removed]",
      "text/plain": [
       "<Figure size 432x288 with 2 Axes>"
      ]
     },
     "metadata": {
      "needs_background": "light"
     },
     "output_type": "display_data"
    }
   ],
   "source": [
    "# n個のコインを投げ、表になった回数を求める。それをm回繰り返し、合計のリストを返す\n",
    "def coin(n, m):\n",
    "    list = []\n",
    "    for i in range(m):\n",
    "        front = np.random.randint(0, 2, size=m)\n",
    "        list.append(front.sum())\n",
    "    return list\n",
    "\n",
    "fig, axes = plt.subplots(1, 2)\n",
    "\n",
    "list = coin(100, 10000)\n",
    "list2 = coin(100, 100000)\n",
    "\n",
    "axes[0].hist(list, bins=50)\n",
    "axes[1].hist(list2, bins=50)\n",
    "plt.show()"
   ]
  }
 ],
 "metadata": {
  "kernelspec": {
   "display_name": "Python 3 (ipykernel)",
   "language": "python",
   "name": "python3"
  },
  "language_info": {
   "codemirror_mode": {
    "name": "ipython",
    "version": 3
   },
   "file_extension": ".py",
   "mimetype": "text/x-python",
   "name": "python",
   "nbconvert_exporter": "python",
   "pygments_lexer": "ipython3",
   "version": "3.9.7"
  }
 },
 "nbformat": 4,
 "nbformat_minor": 5
}
